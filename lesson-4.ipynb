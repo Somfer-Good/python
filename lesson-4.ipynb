{
 "cells": [
  {
   "cell_type": "markdown",
   "metadata": {
    "pycharm": {
     "name": "#%% md\n"
    }
   },
   "source": [
    "# Словари"
   ]
  },
  {
   "cell_type": "markdown",
   "metadata": {
    "pycharm": {
     "name": "#%% md\n"
    }
   },
   "source": [
    "### Определение словаря имеет следующий синтаксис"
   ]
  },
  {
   "cell_type": "markdown",
   "metadata": {
    "pycharm": {
     "name": "#%% md\n"
    }
   },
   "source": [
    "dictionary = { ключ1:значение1, ключ2:значение2, ....}"
   ]
  },
  {
   "cell_type": "markdown",
   "metadata": {
    "pycharm": {
     "name": "#%% md\n"
    }
   },
   "source": [
    "### Создание пустого словаря"
   ]
  },
  {
   "cell_type": "code",
   "execution_count": 2,
   "metadata": {
    "pycharm": {
     "name": "#%%\n"
    }
   },
   "outputs": [],
   "source": [
    "d1 = dict()\n",
    "d2 = {}"
   ]
  },
  {
   "cell_type": "markdown",
   "metadata": {
    "pycharm": {
     "name": "#%% md\n"
    }
   },
   "source": [
    "### Создание словаря с некоторым набором начальных значений"
   ]
  },
  {
   "cell_type": "code",
   "execution_count": 11,
   "metadata": {
    "pycharm": {
     "name": "#%%\n"
    }
   },
   "outputs": [],
   "source": [
    "d = {'perl': 'Larry Wall', 'java': 'James Gosling', 'python': 'Guido van Rossum'}"
   ]
  },
  {
   "cell_type": "markdown",
   "metadata": {
    "pycharm": {
     "name": "#%% md\n"
    }
   },
   "source": [
    "#### Ключи передаются как именованные параметры функции dict, поэтому в этом случае ключи могут быть только строками, причем являющимися корректными идентификаторами"
   ]
  },
  {
   "cell_type": "code",
   "execution_count": 12,
   "metadata": {
    "pycharm": {
     "name": "#%%\n"
    }
   },
   "outputs": [],
   "source": [
    "d = dict(perl = 'Larry Wall', java = 'James Gosling', python = 'Guido van Rossum')"
   ]
  },
  {
   "cell_type": "markdown",
   "metadata": {
    "pycharm": {
     "name": "#%% md\n"
    }
   },
   "source": [
    "#### Функции dict нужно передать список, каждый элемент которого является кортежем из двух элементов: ключа и значения"
   ]
  },
  {
   "cell_type": "code",
   "execution_count": 15,
   "metadata": {
    "pycharm": {
     "name": "#%%\n"
    }
   },
   "outputs": [],
   "source": [
    "d = dict([('perl', 'Larry Wall'), ('java', 'James Gosling'), ('python', 'Guido van Rossum')])"
   ]
  },
  {
   "cell_type": "markdown",
   "metadata": {
    "pycharm": {
     "name": "#%% md\n"
    }
   },
   "source": [
    "#### Используется функция zip, которой передаются два списка одинаковой длины: список ключей и список значений"
   ]
  },
  {
   "cell_type": "code",
   "execution_count": 16,
   "metadata": {
    "pycharm": {
     "name": "#%%\n"
    }
   },
   "outputs": [],
   "source": [
    "d = dict(zip(['perl', 'java', 'python'], ['Larry Wall', 'James Gosling', 'Guido van Rossum']))"
   ]
  },
  {
   "cell_type": "markdown",
   "metadata": {
    "pycharm": {
     "name": "#%% md\n"
    }
   },
   "source": [
    "#### Ключи и строки могут представлять разные типы"
   ]
  },
  {
   "cell_type": "code",
   "execution_count": 7,
   "metadata": {
    "pycharm": {
     "name": "#%%\n"
    }
   },
   "outputs": [],
   "source": [
    "objects = {1: 'Tom', '2': True, 3: 100.6}"
   ]
  },
  {
   "cell_type": "markdown",
   "metadata": {
    "pycharm": {
     "name": "#%% md\n"
    }
   },
   "source": [
    "### Преобразование из списка в словарь"
   ]
  },
  {
   "cell_type": "code",
   "execution_count": 17,
   "metadata": {
    "pycharm": {
     "name": "#%%\n"
    }
   },
   "outputs": [
    {
     "name": "stdout",
     "output_type": "stream",
     "text": [
      "{'perl': 'Larry Wall', 'java': 'James Gosling', 'python': 'Guido van Rossum'}\n"
     ]
    }
   ],
   "source": [
    "languages_list = [\n",
    "    ['perl', 'Larry Wall'],\n",
    "    ['java', 'James Gosling'],\n",
    "    ['python', 'Guido van Rossum']\n",
    "]\n",
    "languages_dict = dict(languages_list)\n",
    "print(languages_dict)"
   ]
  },
  {
   "cell_type": "markdown",
   "metadata": {
    "pycharm": {
     "name": "#%% md\n"
    }
   },
   "source": [
    "### Преобразование из двухмерного кортежа в словарь"
   ]
  },
  {
   "cell_type": "code",
   "execution_count": 18,
   "metadata": {
    "pycharm": {
     "name": "#%%\n"
    }
   },
   "outputs": [
    {
     "name": "stdout",
     "output_type": "stream",
     "text": [
      "{'perl': 'Larry Wall', 'java': 'James Gosling', 'python': 'Guido van Rossum'}\n"
     ]
    }
   ],
   "source": [
    "languages_tuple = (\n",
    "    ('perl', 'Larry Wall'),\n",
    "    ('java', 'James Gosling'),\n",
    "    ('python', 'Guido van Rossum')\n",
    ")\n",
    "languages_dict = dict(languages_tuple)\n",
    "print(languages_dict)"
   ]
  },
  {
   "cell_type": "markdown",
   "metadata": {
    "pycharm": {
     "name": "#%% md\n"
    }
   },
   "source": [
    "### Получение и изменение элементов"
   ]
  },
  {
   "cell_type": "markdown",
   "metadata": {
    "pycharm": {
     "name": "#%% md\n"
    }
   },
   "source": [
    "dictionary[ключ]"
   ]
  },
  {
   "cell_type": "code",
   "execution_count": 19,
   "metadata": {
    "pycharm": {
     "name": "#%%\n"
    }
   },
   "outputs": [
    {
     "name": "stdout",
     "output_type": "stream",
     "text": [
      "James Gosling\n",
      "Larry Wall\n"
     ]
    }
   ],
   "source": [
    "languages = {\n",
    "    'perl': 'Bob Smith',\n",
    "    'java': 'James Gosling',\n",
    "    'python': 'Guido van Rossum'\n",
    "}\n",
    " \n",
    "print(languages['java'])\n",
    " \n",
    "languages['perl'] = 'Larry Wall'\n",
    "print(languages['perl'])"
   ]
  },
  {
   "cell_type": "code",
   "execution_count": 22,
   "metadata": {
    "pycharm": {
     "name": "#%%\n"
    }
   },
   "outputs": [],
   "source": [
    "language = languages['parrot']"
   ]
  },
  {
   "cell_type": "code",
   "execution_count": 21,
   "metadata": {
    "pycharm": {
     "name": "#%%\n"
    }
   },
   "outputs": [],
   "source": [
    "languages['parrot'] = 'Simon Cozens'"
   ]
  },
  {
   "cell_type": "code",
   "execution_count": 24,
   "metadata": {
    "pycharm": {
     "name": "#%%\n"
    }
   },
   "outputs": [
    {
     "name": "stdout",
     "output_type": "stream",
     "text": [
      "Simon Cozens\n"
     ]
    }
   ],
   "source": [
    "key = 'parrot'\n",
    "if key in languages:\n",
    "    language = languages[key]\n",
    "    print(language)\n",
    "else:\n",
    "    print('Элемент не найден')"
   ]
  },
  {
   "cell_type": "markdown",
   "metadata": {
    "pycharm": {
     "name": "#%% md\n"
    }
   },
   "source": [
    "Также для получения элементов можно использовать метод **get**, который имеет две формы:\n",
    "\n",
    "**get(key)**: возвращает из словаря элемент с ключом key. Если элемента с таким ключом нет, то возвращает значение None\n",
    "\n",
    "**get(key, default)**: возвращает из словаря элемент с ключом key. Если элемента с таким ключом нет, то возвращает значение по умолчанию default"
   ]
  },
  {
   "cell_type": "code",
   "execution_count": 25,
   "metadata": {
    "pycharm": {
     "name": "#%%\n"
    }
   },
   "outputs": [],
   "source": [
    "key = 'tcl'\n",
    "language = languages.get(key)\n",
    "language = languages.get(key, 'Unknown language')"
   ]
  },
  {
   "cell_type": "markdown",
   "metadata": {
    "pycharm": {
     "name": "#%% md\n"
    }
   },
   "source": [
    "### Удаление"
   ]
  },
  {
   "cell_type": "code",
   "execution_count": 26,
   "metadata": {
    "pycharm": {
     "name": "#%%\n"
    }
   },
   "outputs": [
    {
     "name": "stdout",
     "output_type": "stream",
     "text": [
      "{'java': 'James Gosling', 'python': 'Guido van Rossum'}\n"
     ]
    }
   ],
   "source": [
    "languages = {\n",
    "    'perl': 'Larry Wall',\n",
    "    'java': 'James Gosling',\n",
    "    'python': 'Guido van Rossum'\n",
    "}\n",
    " \n",
    "del languages['perl']\n",
    "print(languages)"
   ]
  },
  {
   "cell_type": "code",
   "execution_count": 27,
   "metadata": {
    "pycharm": {
     "name": "#%%\n"
    }
   },
   "outputs": [
    {
     "name": "stdout",
     "output_type": "stream",
     "text": [
      "Not Found\n"
     ]
    }
   ],
   "source": [
    "key = 'perl'\n",
    "if key in languages:\n",
    "    language = languages[key]\n",
    "    del languages[key]\n",
    "    print(language, 'Deleted')\n",
    "else:\n",
    "    print('Not Found')"
   ]
  },
  {
   "cell_type": "markdown",
   "metadata": {
    "pycharm": {
     "name": "#%% md\n"
    }
   },
   "source": [
    "Другой способ удаления представляет метод **pop()**. Он имеет две формы:\n",
    "\n",
    "**pop(key)**: удаляет элемент по ключу key и возвращает удаленный элемент. Если элемент с данным ключом отсутствует, то генерируется исключение KeyError\n",
    "\n",
    "**pop(key, default)**: удаляет элемент по ключу key и возвращает удаленный элемент. Если элемент с данным ключом отсутствует, то возвращается значение default"
   ]
  },
  {
   "cell_type": "code",
   "execution_count": 28,
   "metadata": {
    "pycharm": {
     "name": "#%%\n"
    }
   },
   "outputs": [
    {
     "name": "stdout",
     "output_type": "stream",
     "text": [
      "James Gosling\n",
      "Unknown language\n"
     ]
    }
   ],
   "source": [
    "languages = {\n",
    "    'perl': 'Larry Wall',\n",
    "    'java': 'James Gosling',\n",
    "    'python': 'Guido van Rossum'\n",
    "}\n",
    "key = 'java'\n",
    "language = languages.pop(key)\n",
    "print(language)\n",
    " \n",
    "language = languages.pop('tcl', 'Unknown language')\n",
    "print(language)"
   ]
  },
  {
   "cell_type": "code",
   "execution_count": 29,
   "metadata": {
    "pycharm": {
     "name": "#%%\n"
    }
   },
   "outputs": [],
   "source": [
    "languages.clear()"
   ]
  },
  {
   "cell_type": "markdown",
   "metadata": {
    "pycharm": {
     "name": "#%% md\n"
    }
   },
   "source": [
    "### Копирование и объединение словарей"
   ]
  },
  {
   "cell_type": "markdown",
   "metadata": {
    "pycharm": {
     "name": "#%% md\n"
    }
   },
   "source": [
    "Метод **copy()** копирует содержимое словаря, возвращая новый словарь:"
   ]
  },
  {
   "cell_type": "code",
   "execution_count": 30,
   "metadata": {
    "pycharm": {
     "name": "#%%\n"
    }
   },
   "outputs": [],
   "source": [
    "languages = {\n",
    "    'perl': 'Larry Wall',\n",
    "    'java': 'James Gosling',\n",
    "    'python': 'Guido van Rossum'\n",
    "}\n",
    "languages2 = languages.copy()"
   ]
  },
  {
   "cell_type": "markdown",
   "metadata": {
    "pycharm": {
     "name": "#%% md\n"
    }
   },
   "source": [
    "Метод **update()** объединяет два словаря:"
   ]
  },
  {
   "cell_type": "code",
   "execution_count": 31,
   "metadata": {
    "pycharm": {
     "name": "#%%\n"
    }
   },
   "outputs": [
    {
     "name": "stdout",
     "output_type": "stream",
     "text": [
      "{'perl': 'Larry Wall', 'java': 'James Gosling', 'python': 'Guido van Rossum', 'tcl': 'John Ousterhout', 'parrot': 'Simon Cozens'}\n",
      "{'tcl': 'John Ousterhout', 'parrot': 'Simon Cozens'}\n"
     ]
    }
   ],
   "source": [
    "languages = {\n",
    "    'perl': 'Larry Wall',\n",
    "    'java': 'James Gosling',\n",
    "    'python': 'Guido van Rossum'\n",
    "}\n",
    "\n",
    "languages2 = {'tcl': 'John Ousterhout','parrot': 'Simon Cozens'}\n",
    "languages.update(languages2)\n",
    " \n",
    "print(languages)\n",
    "print(languages2)"
   ]
  },
  {
   "cell_type": "code",
   "execution_count": 32,
   "metadata": {
    "pycharm": {
     "name": "#%%\n"
    }
   },
   "outputs": [],
   "source": [
    "languages3 = languages.copy()\n",
    "languages3.update(languages2)"
   ]
  },
  {
   "cell_type": "markdown",
   "metadata": {
    "pycharm": {
     "name": "#%% md\n"
    }
   },
   "source": [
    "### Перебор словаря"
   ]
  },
  {
   "cell_type": "markdown",
   "metadata": {
    "pycharm": {
     "name": "#%% md\n"
    }
   },
   "source": [
    "Для перебора словаря можно воспользоваться циклом **for**:"
   ]
  },
  {
   "cell_type": "code",
   "execution_count": 33,
   "metadata": {
    "pycharm": {
     "name": "#%%\n"
    }
   },
   "outputs": [
    {
     "name": "stdout",
     "output_type": "stream",
     "text": [
      "perl  -  Larry Wall\n",
      "java  -  James Gosling\n",
      "python  -  Guido van Rossum\n"
     ]
    }
   ],
   "source": [
    "languages = {\n",
    "    'perl': 'Larry Wall',\n",
    "    'java': 'James Gosling',\n",
    "    'python': 'Guido van Rossum'\n",
    "}\n",
    "for key in languages:\n",
    "    print(key, ' - ', languages[key])"
   ]
  },
  {
   "cell_type": "markdown",
   "metadata": {
    "pycharm": {
     "name": "#%% md\n"
    }
   },
   "source": [
    "Другой способ перебора элементов представляет использование метода **items()**:"
   ]
  },
  {
   "cell_type": "code",
   "execution_count": null,
   "outputs": [],
   "source": [],
   "metadata": {
    "collapsed": false,
    "pycharm": {
     "name": "#%%\n"
    }
   }
  },
  {
   "cell_type": "code",
   "execution_count": 34,
   "metadata": {
    "pycharm": {
     "name": "#%%\n"
    }
   },
   "outputs": [
    {
     "name": "stdout",
     "output_type": "stream",
     "text": [
      "perl  -  Larry Wall\n",
      "java  -  James Gosling\n",
      "python  -  Guido van Rossum\n"
     ]
    }
   ],
   "source": [
    "for key, value in languages.items():\n",
    "    print(key, ' - ', value)"
   ]
  },
  {
   "cell_type": "markdown",
   "metadata": {
    "pycharm": {
     "name": "#%% md\n"
    }
   },
   "source": [
    "Метод **items()** возвращает набор кортежей. Каждый кортеж содержит ключ и значение элемента, которые при переборе мы тут же можем получить в переменные **key** и **value**."
   ]
  },
  {
   "cell_type": "markdown",
   "metadata": {
    "pycharm": {
     "name": "#%% md\n"
    }
   },
   "source": [
    "Также существуют отдельно возможности перебора ключей и перебора значений. Для перебора ключей мы можем вызвать у словаря метод **keys()**:"
   ]
  },
  {
   "cell_type": "code",
   "execution_count": 35,
   "metadata": {
    "pycharm": {
     "name": "#%%\n"
    }
   },
   "outputs": [
    {
     "name": "stdout",
     "output_type": "stream",
     "text": [
      "perl\n",
      "java\n",
      "python\n"
     ]
    }
   ],
   "source": [
    "for key in languages.keys():\n",
    "    print(key)"
   ]
  },
  {
   "cell_type": "markdown",
   "metadata": {
    "pycharm": {
     "name": "#%% md\n"
    }
   },
   "source": [
    "Для перебора только значений мы можем вызвать у словаря метод **values()**:"
   ]
  },
  {
   "cell_type": "code",
   "execution_count": 36,
   "metadata": {
    "pycharm": {
     "name": "#%%\n"
    }
   },
   "outputs": [
    {
     "name": "stdout",
     "output_type": "stream",
     "text": [
      "Larry Wall\n",
      "James Gosling\n",
      "Guido van Rossum\n"
     ]
    }
   ],
   "source": [
    "for value in languages.values():\n",
    "    print(value)"
   ]
  },
  {
   "cell_type": "markdown",
   "metadata": {
    "pycharm": {
     "name": "#%% md\n"
    }
   },
   "source": [
    "### Комплексные словари"
   ]
  },
  {
   "cell_type": "code",
   "execution_count": 38,
   "metadata": {
    "pycharm": {
     "name": "#%%\n"
    }
   },
   "outputs": [],
   "source": [
    "languages = {\n",
    "    'java': {\n",
    "        'author': 'Bob Smith',\n",
    "        'year': '1995'\n",
    "    },\n",
    "    'python': {\n",
    "        'author': 'Guido van Rossum',\n",
    "        'year': '1991',\n",
    "        'license': 'Python Software Foundation License'\n",
    "    }\n",
    "}"
   ]
  },
  {
   "cell_type": "code",
   "execution_count": 39,
   "metadata": {
    "pycharm": {
     "name": "#%%\n"
    }
   },
   "outputs": [],
   "source": [
    "old_author = languages['java']['author']\n",
    "languages['java']['author'] = 'James Gosling'"
   ]
  },
  {
   "cell_type": "code",
   "execution_count": 41,
   "metadata": {
    "pycharm": {
     "name": "#%%\n"
    }
   },
   "outputs": [
    {
     "ename": "KeyError",
     "evalue": "'license'",
     "output_type": "error",
     "traceback": [
      "\u001B[1;31m---------------------------------------------------------------------------\u001B[0m",
      "\u001B[1;31mKeyError\u001B[0m                                  Traceback (most recent call last)",
      "\u001B[1;32m<ipython-input-41-458398e7614f>\u001B[0m in \u001B[0;36m<module>\u001B[1;34m\u001B[0m\n\u001B[1;32m----> 1\u001B[1;33m \u001B[0mjava_license\u001B[0m \u001B[1;33m=\u001B[0m \u001B[0mlanguages\u001B[0m\u001B[1;33m[\u001B[0m\u001B[1;34m'java'\u001B[0m\u001B[1;33m]\u001B[0m\u001B[1;33m[\u001B[0m\u001B[1;34m'license'\u001B[0m\u001B[1;33m]\u001B[0m\u001B[1;33m\u001B[0m\u001B[1;33m\u001B[0m\u001B[0m\n\u001B[0m",
      "\u001B[1;31mKeyError\u001B[0m: 'license'"
     ]
    }
   ],
   "source": [
    "java_license = languages['java']['license']"
   ]
  },
  {
   "cell_type": "code",
   "execution_count": 42,
   "metadata": {
    "pycharm": {
     "name": "#%%\n"
    }
   },
   "outputs": [
    {
     "name": "stdout",
     "output_type": "stream",
     "text": [
      "License is not found\n"
     ]
    }
   ],
   "source": [
    "key = 'license'\n",
    "if key in languages['java']:\n",
    "    print(languages['java']['license'])\n",
    "else:\n",
    "    print('License is not found')"
   ]
  },
  {
   "cell_type": "markdown",
   "metadata": {
    "pycharm": {
     "name": "#%% md\n"
    }
   },
   "source": [
    "### Когда нужно использовать словари\n",
    "\n",
    "Словари нужно использовать в следующих случаях:\n",
    "\n",
    "Подсчет числа каких-то объектов. В этом случае нужно завести словарь, в котором ключами являются объекты, а значениями — их количество.\n",
    "\n",
    "Хранение каких-либо данных, связанных с объектом. Ключи — объекты, значения — связанные с ними данные. Например, если нужно по названию месяца определить его порядковый номер, то это можно сделать при помощи словаря Num['January'] = 1; Num['February'] = 2; ....\n",
    "\n",
    "Установка соответствия между объектами (например, “родитель—потомок”). Ключ — объект, значение — соответствующий ему объект.\n",
    "\n",
    "Если нужен обычный массив, но масимальное значение индекса элемента очень велико, и при этом будут использоваться не все возможные индексы (так называемый “разреженный массив”), то можно использовать ассоциативный массив для экономии памяти."
   ]
  },
  {
   "cell_type": "markdown",
   "metadata": {
    "pycharm": {
     "name": "#%% md\n"
    }
   },
   "source": [
    "### Задачи:\n",
    "#### 1. На вход поступает строка, в которой содержится текст. Посчитать количество вхождений каждого слова в этот текст. Отсортировать словарь по ключу.\n",
    "#### 2. На вход поступает строка, в которой содержится текст. Посчитать количество вхождений каждой буквы в этот текст. Отсортировать буквы по количеству вхождений.\n",
    "#### 3. На вход поступает количество строк. Далее вводится последовательность строк. Каждая строка содержит название страны и название столицы. Для столицы из словаря, записанной в последней строке, определить страну.\n",
    "#### 4. На вход поступает число - количество строк. Далее в каждой строке содержится название страны и некоторые города (количество городов неизвестно) в следующем формате: <название страны> - <город1>, <город2>, <город3>, ... Для каждого города вывести название страны в отдельной строке в виде <город1> - <название страны>"
   ]
  },
  {
   "cell_type": "code",
   "execution_count": null,
   "metadata": {
    "pycharm": {
     "name": "#%%\n"
    }
   },
   "outputs": [],
   "source": []
  }
 ],
 "metadata": {
  "kernelspec": {
   "display_name": "Python 3",
   "language": "python",
   "name": "python3"
  },
  "language_info": {
   "codemirror_mode": {
    "name": "ipython",
    "version": 3
   },
   "file_extension": ".py",
   "mimetype": "text/x-python",
   "name": "python",
   "nbconvert_exporter": "python",
   "pygments_lexer": "ipython3",
   "version": "3.7.4"
  }
 },
 "nbformat": 4,
 "nbformat_minor": 4
}